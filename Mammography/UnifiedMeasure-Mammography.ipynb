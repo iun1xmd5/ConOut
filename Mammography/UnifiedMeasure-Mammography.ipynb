{
 "cells": [
  {
   "cell_type": "code",
   "execution_count": 5,
   "metadata": {},
   "outputs": [],
   "source": [
    "######### Clustering via gap statistic #############\n",
    "cv.test = function(x,y) {\n",
    "  CV = sqrt(chisq.test(x, y, simulate.p.value = TRUE)$statistic /\n",
    "              (length(x) * (min(length(unique(x)),length(unique(y))) - 1)))\n",
    "  return(as.numeric(CV))\n",
    "}\n",
    "\n",
    "anova.test = function(x,y) {\n",
    "  glm.fit <- glm(as.integer(y)~x,family = poisson(link = \"log\"))\n",
    "  library(heplots)\n",
    "  model.aov <- aov(glm.fit)\n",
    "  etasq.x = etasq(model.aov, partial = TRUE)\n",
    "  return(sqrt(etasq.x$`Partial eta^2`)[1])\n",
    "}\n",
    "\n",
    "corcatnum = function(numfeatures,catfeatures){\n",
    "  cmatrix <- matrix(sample(-99,nrow(catfeatures)*nrow(numfeatures),T),ncol=nrow(numfeatures))\n",
    "  rownames(cmatrix) = rownames(catfeatures)\n",
    "  colnames(cmatrix) = rownames(numfeatures)\n",
    "  ncat = dim(catfeatures)[1]\n",
    "  nnum = dim(numfeatures)[1]\n",
    "  for(i in 1:ncat){\n",
    "    for(j in 1:nnum){\n",
    "      testobj = kruskal_test(as.numeric(numfeatures[rownames(numfeatures)[j],]) ~ \n",
    "                             as.factor(catfeatures[rownames(catfeatures)[i],]))\n",
    "      cmatrix[rownames(catfeatures)[i],rownames(numfeatures)[j]] = 1 - pvalue(testobj)\n",
    "      \n",
    "        \n",
    "    }\n",
    "  }\n",
    "  return(cmatrix)\n",
    "}\n",
    "\n",
    "corbothcat = function(catfeatures){\n",
    "  catmatrix <- matrix(sample(0,nrow(catfeatures)*nrow(catfeatures),T),ncol=nrow(catfeatures))\n",
    "  rownames(catmatrix) = rownames(catfeatures)\n",
    "  colnames(catmatrix) = rownames(catfeatures)\n",
    "  ncat = dim(catfeatures)[1]\n",
    "  for(i in 1:ncat){\n",
    "    for(j in 1:ncat){\n",
    "      if(i != j){\n",
    "        testobj = chisq_test(as.factor(catfeatures[rownames(catfeatures)[i],]) ~ \n",
    "                               as.factor(catfeatures[rownames(catfeatures)[j],]))\n",
    "        catmatrix[rownames(catfeatures)[i],rownames(catfeatures)[j]] = 1 - pvalue(testobj)\n",
    "      }\n",
    "      else{\n",
    "        catmatrix[rownames(catfeatures)[i],rownames(catfeatures)[j]] = 1\n",
    "      }\n",
    "    }\n",
    "  }\n",
    "  return(catmatrix)\n",
    "}\n",
    "\n",
    "\n",
    "association = function(featmatrix,typevar){\n",
    "  amatrix <- matrix(sample(0,nrow(feat.matrix)*nrow(feat.matrix),T),ncol=nrow(feat.matrix))\n",
    "  rownames(amatrix) = rownames(feat.matrix)\n",
    "  colnames(amatrix) = rownames(feat.matrix)\n",
    "  numfeatures = feat.matrix[which(typevar == \"numeric\"),]\n",
    "  class(numfeatures) = \"numeric\"\n",
    "  pnum = cor.mtest(as.matrix(t(numfeatures)),method = c(\"spearman\"), exact = FALSE)\n",
    "  amatrix[rownames(numfeatures),rownames(numfeatures)] = (1 - pnum$p)\n",
    "  # p-value using Spearman done for the numerical features and assigned to assoc matrix\n",
    "  catfeatures = feat.matrix[which(typevar == \"categorical\"),]\n",
    "  if(length(which(typevar == \"categorical\")) > 0)\n",
    "  {\n",
    "    cnummatrix = corcatnum(numfeatures,catfeatures)\n",
    "    amatrix[rownames(catfeatures),rownames(numfeatures)] = cnummatrix\n",
    "    amatrix[rownames(numfeatures),rownames(catfeatures)] = t(cnummatrix)\n",
    "  }\n",
    "  # Anova eta squared of the categorical and numerical done.\n",
    "  if(length(which(typevar == \"categorical\")) > 1)\n",
    "  {\n",
    "    catmatrix = corbothcat(catfeatures)\n",
    "    amatrix[rownames(catfeatures),rownames(catfeatures)] = catmatrix\n",
    "    amatrix[rownames(catfeatures),rownames(catfeatures)] = t(catmatrix)\n",
    "  }\n",
    "  return (amatrix)\n",
    "}"
   ]
  },
  {
   "cell_type": "code",
   "execution_count": 7,
   "metadata": {},
   "outputs": [],
   "source": [
    "library(coin)\n",
    "library(cluster)\n",
    "library(stats)\n",
    "library(factoextra)\n",
    "set.seed(123)\n",
    "library(dplyr)\n",
    "library(corrplot)"
   ]
  },
  {
   "cell_type": "code",
   "execution_count": null,
   "metadata": {},
   "outputs": [],
   "source": [
    "setwd(\"C:/Users/meghanam/Desktop/Work/Adobe/\")\n",
    "\n",
    "\n",
    "feat.matrix = readRDS(\"features_mamm.RDS\")\n",
    "typevar = readRDS(\"typevar_mamm.RDS\")\n",
    "feat.matrix = t(feat.matrix)\n",
    "assocmatrix = association(feat.matrix,typevar)\n",
    "#saveRDS(assocmatrix,\"assocmatrix_mamm.RDS\")\n",
    "assocmatrix = readRDS(\"assocmatrix_mamm.RDS\")\n",
    "corrplot(assocmatrix, hclust.method = \"complete\",order = \"hclust\", tl.cex= 1.5, \n",
    "         cl.cex = 1.2, is.corr = FALSE, addrect = 3, rect.col = \"red\", rect.lwd = \"4\")"
   ]
  },
  {
   "cell_type": "code",
   "execution_count": 55,
   "metadata": {},
   "outputs": [
    {
     "data": {},
     "metadata": {},
     "output_type": "display_data"
    },
    {
     "data": {
      "image/png": "[encoded data removed]",
      "text/plain": [
       "plot without title"
      ]
     },
     "metadata": {},
     "output_type": "display_data"
    }
   ],
   "source": [
    "hclusCut <- function(x, k){\n",
    "  hclust = hcut(as.dist(1 - assocmatrix), k = k, hc_method = \"complete\", isdiss = T, \n",
    "                hc_func = \"hclust\")\n",
    "  return(list(cluster = hclust$cluster))\n",
    "}\n",
    "\n",
    "# gap_stat <- clusGap(feat.matrix, FUNcluster = hcut, K.max = 10, B = 100,\n",
    "#                     hc_method = \"complete\", spaceH0 = \"original\",  hc_func = \"hclust\", \n",
    "#                     hc_metric = \"pearson\")\n",
    "\n",
    "gap_stat <- clusGap(assocmatrix, FUNcluster = hclusCut, K.max = 4, B = 500,\n",
    "                    d.power = 1,spaceH0 = \"original\")\n",
    "# Plot gap statistic\n",
    "fviz_gap_stat(gap_stat, \n",
    "              maxSE = list(method = \"Tibs2001SEmax\"))"
   ]
  },
  {
   "cell_type": "code",
   "execution_count": 57,
   "metadata": {},
   "outputs": [
    {
     "data": {},
     "metadata": {},
     "output_type": "display_data"
    },
    {
     "data": {
      "image/png": "[encoded data removed]",
      "text/plain": [
       "plot without title"
      ]
     },
     "metadata": {},
     "output_type": "display_data"
    }
   ],
   "source": [
    "clust = hcut(as.dist(1 - assocmatrix), k = 3, hc_method = \"complete\", isdiss = T, hc_func = \"hclust\")\n",
    "fviz_dend(clust)"
   ]
  },
  {
   "cell_type": "code",
   "execution_count": 67,
   "metadata": {},
   "outputs": [],
   "source": [
    "groups = list()\n",
    "for(i in seq(1:3))\n",
    "{\n",
    "  groups[[i]] = names(clust$cluster[clust$cluster == i]) \n",
    "}\n",
    "contexts = expand.grid(groups)\n",
    "saveRDS(contexts,\"contextmamms.RDS\")"
   ]
  },
  {
   "cell_type": "code",
   "execution_count": 64,
   "metadata": {},
   "outputs": [],
   "source": []
  },
  {
   "cell_type": "code",
   "execution_count": null,
   "metadata": {},
   "outputs": [],
   "source": []
  }
 ],
 "metadata": {
  "kernelspec": {
   "display_name": "R",
   "language": "R",
   "name": "ir"
  },
  "language_info": {
   "codemirror_mode": "r",
   "file_extension": ".r",
   "mimetype": "text/x-r-source",
   "name": "R",
   "pygments_lexer": "r",
   "version": "3.3.1"
  }
 },
 "nbformat": 4,
 "nbformat_minor": 2
}
